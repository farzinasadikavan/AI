{
 "cells": [
  {
   "cell_type": "code",
   "execution_count": 5,
   "id": "9d8ae16a",
   "metadata": {},
   "outputs": [],
   "source": [
    "import numpy as np\n",
    "import random as rnd\n",
    "import copy\n",
    "\n",
    "\n",
    "def swapPositions(list, pos1, pos2):\n",
    "    list[pos1], list[pos2] = list[pos2], list[pos1]\n",
    "    return list"
   ]
  },
  {
   "cell_type": "markdown",
   "id": "b2cb524d",
   "metadata": {},
   "source": [
    "یک تابع برای عوض کردن خانه های یک لیست"
   ]
  },
  {
   "cell_type": "code",
   "execution_count": 6,
   "id": "1005eae1",
   "metadata": {},
   "outputs": [],
   "source": [
    "def build_society(puzzle):\n",
    "    temp = [[0 for i in range(9)] for j in range(9)]\n",
    "    for x in range(100):\n",
    "        temp = copy.deepcopy(puzzle[0])\n",
    "        for i in range(9):\n",
    "            for j in range(9):\n",
    "                if temp[i][j] == 0:\n",
    "                    replace = False\n",
    "                    while replace == False:\n",
    "                        replace = True\n",
    "                        temporary = rnd.randint(1, 9)\n",
    "                        for y in range(9):\n",
    "                            if temporary == temp[i][y]:\n",
    "                                replace = False\n",
    "                        if replace == True:\n",
    "                            temp[i][j] = copy.deepcopy(temporary)\n",
    "        puzzle.append(copy.deepcopy(temp))\n",
    "    return puzzle\n"
   ]
  },
  {
   "cell_type": "markdown",
   "id": "b51e0e32",
   "metadata": {},
   "source": [
    "به تعداد ۹۹ کروموزم ساختم که هر کدام از ژن های آن به صورت رندوم انتخاب میشود"
   ]
  },
  {
   "cell_type": "markdown",
   "id": "5df22b63",
   "metadata": {},
   "source": [
    "تنها خانه هایی که از قبل فیکس شدند رندوم انتخاب نمیشوند و همان ها در کروموزوم قرار میگیرند"
   ]
  },
  {
   "cell_type": "code",
   "execution_count": 7,
   "id": "c175d08e",
   "metadata": {},
   "outputs": [],
   "source": [
    "def check_puzzle(puzzle, x, y):\n",
    "    for i in range(9):\n",
    "        if(i != x):\n",
    "            if(puzzle[x][y] == puzzle[i][y]):\n",
    "                return False\n",
    "    for j in range(9):\n",
    "        if(j != y):\n",
    "            if puzzle[x][y] == puzzle[x][j]:\n",
    "                return False\n",
    "    start1 = (int(x/3))*3\n",
    "    start2 = (int(y/3))*3\n",
    "    for i in range(start1, start1+3):\n",
    "        for j in range(start2, start2+3):\n",
    "            if i != x or j != y:\n",
    "                if puzzle[x][y] == puzzle[i][j]:\n",
    "                    return False\n",
    "    return True"
   ]
  },
  {
   "cell_type": "markdown",
   "id": "52a8685a",
   "metadata": {},
   "source": [
    "به این تابع یک جدول و یک خانه مشخص میدهیم و به ما میگوید آیا با سایر خانه های در ردیف افقی و عمودی و جول های ۳ در ۳ یکسان است یا نه"
   ]
  },
  {
   "cell_type": "code",
   "execution_count": 8,
   "id": "b251a7ab",
   "metadata": {},
   "outputs": [],
   "source": [
    "def calculate_fitnes(puzzle):\n",
    "    fit = 0\n",
    "    for i in range(9):\n",
    "        for j in range(9):\n",
    "            if check_puzzle(puzzle, i, j):\n",
    "                fit = fit+1\n",
    "    return fit\n"
   ]
  },
  {
   "cell_type": "markdown",
   "id": "5911e005",
   "metadata": {},
   "source": [
    "تابعی برای محاسبه فیتنس جدول است که تمام خانه های جدول را به تابع چک میدهد و اگر درست بود خانه ها فیتنس بیشتر میشود\n"
   ]
  },
  {
   "cell_type": "code",
   "execution_count": 9,
   "id": "8c247b1d",
   "metadata": {},
   "outputs": [],
   "source": [
    "def crossover(puzzle, z):\n",
    "    temp = [[0 for i in range(9)] for j in range(9)]\n",
    "    parent2 = z\n",
    "    point = rnd.randint(1, 8)\n",
    "    for i in range(0, point):\n",
    "        for j in range(9):\n",
    "            temp[i][j] = copy.deepcopy(puzzle[z][i][j])\n",
    "    while parent2 == z:\n",
    "        parent2 = rnd.randint(1, 100)\n",
    "    for i in range(point, 9):\n",
    "        for j in range(9):\n",
    "            temp[i][j] = copy.deepcopy(puzzle[parent2][i][j])\n",
    "    if calculate_fitnes(temp) > calculate_fitnes(puzzle[z]):\n",
    "        puzzle[z] = copy.deepcopy(temp)\n",
    "    return puzzle"
   ]
  },
  {
   "cell_type": "markdown",
   "id": "3aa639db",
   "metadata": {},
   "source": [
    "تابع کراس اور است که یک نقطه را رندوم مشخص میکند و یک کروموزوم دیگر را هم همینطور"
   ]
  },
  {
   "cell_type": "markdown",
   "id": "1830563e",
   "metadata": {},
   "source": [
    "بعد قبل از ان نقطه را از کروموزوم اول و بعد آن را از کروموزومی که رندوم انتخاب کردیم میگیرد و در یک جدول دیگر میریزد\n",
    "اگر فیتنس بهتر شده بود نسبت به کروموزوم اول آن را جای آن قرار میدهد"
   ]
  },
  {
   "cell_type": "code",
   "execution_count": 10,
   "id": "1ae72bc2",
   "metadata": {},
   "outputs": [],
   "source": [
    "def mutation(puzzle, z):\n",
    "    x = rnd.randint(0, 8)\n",
    "    for i in range(9):\n",
    "        last_fitness = calculate_fitnes(puzzle[z])\n",
    "        for j in range(i+1, 9):\n",
    "            if puzzle[0][x][i] == 0 and puzzle[0][x][j] == 0:\n",
    "                puzzle[z][x] = swapPositions(puzzle[z][x], i, j)\n",
    "                if calculate_fitnes(puzzle[z]) < last_fitness:\n",
    "                    puzzle[z][x] = swapPositions(puzzle[z][x], i, j)\n",
    "    return puzzle, calculate_fitnes(puzzle[z])"
   ]
  },
  {
   "cell_type": "markdown",
   "id": "77acaf3a",
   "metadata": {},
   "source": [
    "یک ردیف از جدول را به صورت رندوم انتخاب میکند\n",
    "اگر با جابه جا کردن خخانه های که فیکس نیستن فیتنس بهتر میشود آنهارا تغییر میدهد و به جای کروموزوم اول قرار میدهد"
   ]
  },
  {
   "cell_type": "code",
   "execution_count": 11,
   "id": "87a23bc6",
   "metadata": {},
   "outputs": [
    {
     "name": "stdout",
     "output_type": "stream",
     "text": [
      "8 0 6 0 0 0 1 0 7\n",
      "0 0 0 6 0 2 0 0 0\n",
      "0 5 3 0 0 4 8 0 6\n",
      "7 0 4 8 0 0 6 3 0\n",
      "0 0 0 0 0 0 0 9 0\n",
      "1 0 0 5 0 0 4 0 0\n",
      "0 0 1 2 0 0 7 0 9\n",
      "2 0 0 0 9 6 0 0 0\n",
      "0 7 0 0 1 0 0 8 0\n",
      "[8, 2, 6, 9, 3, 5, 1, 4, 7]\n",
      "[4, 1, 7, 6, 8, 2, 9, 5, 3]\n",
      "[9, 5, 3, 1, 7, 4, 8, 2, 6]\n",
      "[7, 9, 4, 8, 2, 1, 6, 3, 5]\n",
      "[5, 6, 8, 3, 4, 7, 2, 9, 1]\n",
      "[1, 3, 2, 5, 6, 9, 4, 7, 8]\n",
      "[3, 4, 1, 2, 5, 8, 7, 6, 9]\n",
      "[2, 8, 5, 7, 9, 6, 3, 1, 4]\n",
      "[6, 7, 9, 4, 1, 3, 5, 8, 2]\n"
     ]
    }
   ],
   "source": [
    "maps = [[[0 for col in range(9)] for col in range(9)]for row in range(1)]\n",
    "for i in range(9):\n",
    "    rows = []\n",
    "    rows = list(map(int, input().split()))\n",
    "    maps[0][i] = rows\n",
    "maps = build_society(maps)\n",
    "fitness = 0\n",
    "while fitness < 81:\n",
    "    for i in range(1, 100):\n",
    "        maps = crossover(maps, i)\n",
    "        maps, fitness_temp = mutation(maps, i)\n",
    "        if fitness_temp > fitness:\n",
    "            fitness = fitness_temp\n",
    "        if fitness >= 81:\n",
    "            for row in maps[i]:\n",
    "                print(row)\n",
    "            break"
   ]
  },
  {
   "cell_type": "code",
   "execution_count": null,
   "id": "bb04d53b",
   "metadata": {},
   "outputs": [],
   "source": []
  }
 ],
 "metadata": {
  "kernelspec": {
   "display_name": "Python 3",
   "language": "python",
   "name": "python3"
  },
  "language_info": {
   "codemirror_mode": {
    "name": "ipython",
    "version": 3
   },
   "file_extension": ".py",
   "mimetype": "text/x-python",
   "name": "python",
   "nbconvert_exporter": "python",
   "pygments_lexer": "ipython3",
   "version": "3.6.9"
  }
 },
 "nbformat": 4,
 "nbformat_minor": 5
}
